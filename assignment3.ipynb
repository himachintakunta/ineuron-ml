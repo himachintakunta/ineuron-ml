{
 "cells": [
  {
   "cell_type": "code",
   "execution_count": 4,
   "metadata": {},
   "outputs": [
    {
     "name": "stdout",
     "output_type": "stream",
     "text": [
      "35\n"
     ]
    }
   ],
   "source": [
    "#1.1 Write a Python Program to implement your own myreduce() function which works exactly like Python's built-in function reduce()\n",
    "\n",
    "def myreduce(fun,iterable):\n",
    "    a=iterable[0]\n",
    "    for i in range(1,len(iterable)):\n",
    "         a = fun(a, iterable[i])\n",
    "    return a\n",
    "list=[2,3,4,5,6,7,8]\n",
    "def add(a,b):\n",
    "    return a+b\n",
    "print(myreduce(add,list))\n",
    "\n",
    "    "
   ]
  },
  {
   "cell_type": "code",
   "execution_count": 9,
   "metadata": {},
   "outputs": [
    {
     "name": "stdout",
     "output_type": "stream",
     "text": [
      "[2, 4, 6, 8, 10]\n"
     ]
    }
   ],
   "source": [
    "#1.2 Write a Python program to implement your own myfilter() function which works exactly\n",
    "#like Python's built-in function filter()\n",
    "def myfilter(fun,iterable):\n",
    "    l1=[]\n",
    "    l2=[]\n",
    "    for i in iterable:\n",
    "        l1.append(fun(i))\n",
    "    for j in range(0,len(l1)):\n",
    "        if l1[j]==False:\n",
    "            continue\n",
    "        else:\n",
    "            l2.append(l1[j])\n",
    "    return l2\n",
    "def checkeven(num):\n",
    "    if num%2 == 0:\n",
    "        return num\n",
    "    else:\n",
    "        return False\n",
    "\n",
    "print(myfilter(checkeven,[1, 2, 3, 4, 5, 6, 7, 8, 9, 10]))\n",
    "            "
   ]
  },
  {
   "cell_type": "code",
   "execution_count": 17,
   "metadata": {},
   "outputs": [
    {
     "name": "stdout",
     "output_type": "stream",
     "text": [
      "['A', 'C', 'A', 'D', 'G', 'I', 'L', 'D']\n",
      "['x', 'xx', 'xxx', 'xxxx', 'y', 'yy', 'yyy', 'yyyy', 'z', 'zz', 'zzz', 'zzzz']\n",
      "['x', 'y', 'z', 'xx', 'yy', 'zz', 'xxx', 'yyy', 'zzz', 'xxxx', 'yyyy', 'zzzz']\n",
      "[[2], [3], [4], [3], [4], [5], [4], [5], [6]]\n",
      "[[2, 3, 4, 5], [3, 4, 5, 6], [4, 5, 6, 7], [5, 6, 7, 8]]\n",
      "[(1, 1), (2, 1), (3, 1), (1, 2), (2, 2), (3, 2), (1, 3), (2, 3), (3, 3)]\n"
     ]
    }
   ],
   "source": [
    "#2. Implement List comprehensions to produce the following lists.\n",
    "#Write List comprehensions to produce the following Lists\n",
    "\n",
    "\n",
    "#['A', 'C', 'A', 'D', 'G', 'I', ’L’, ‘ D’]\n",
    "l1=[i for i in \"ACADGILD\"]\n",
    "print(l1)\n",
    "#['x', 'xx', 'xxx', 'xxxx', 'y', 'yy', 'yyy', 'yyyy', 'z', 'zz', 'zzz', 'zzzz']\n",
    "l2=[a*b for a in [\"x\",\"y\",\"z\"] for b in range(1,5)]\n",
    "print(l2)\n",
    "#['x', 'y', 'z', 'xx', 'yy', 'zz', 'xxx', 'yyy', 'zzz', 'xxxx', 'yyyy', 'zzzz']\n",
    "l3=[a*b for a in range(1,5) for b in [\"x\",\"y\",\"z\"]]\n",
    "print(l3)\n",
    "#[[2], [3], [4], [3], [4], [5], [4], [5], [6]] \n",
    "l4 = [[i + j] for i in range(2, 5) for j in [0, 1, 2]]\n",
    "print(l4)\n",
    "#[[2, 3, 4, 5], [3, 4, 5, 6],[4, 5, 6, 7], [5, 6, 7, 8]]\n",
    "l5 = [[i + j for i in range(2,6)] for j in range(0,4)]\n",
    "print(l5)\n",
    "#[(1, 1), (2, 1), (3, 1), (1, 2), (2, 2), (3, 2), (1, 3), (2, 3), (3, 3)]\n",
    "l6 = [(i,j) for j in [1, 2, 3] for i in [1, 2, 3]]\n",
    "print(l6)\n"
   ]
  },
  {
   "cell_type": "code",
   "execution_count": null,
   "metadata": {},
   "outputs": [],
   "source": []
  }
 ],
 "metadata": {
  "kernelspec": {
   "display_name": "Python 3",
   "language": "python",
   "name": "python3"
  },
  "language_info": {
   "codemirror_mode": {
    "name": "ipython",
    "version": 3
   },
   "file_extension": ".py",
   "mimetype": "text/x-python",
   "name": "python",
   "nbconvert_exporter": "python",
   "pygments_lexer": "ipython3",
   "version": "3.8.3"
  }
 },
 "nbformat": 4,
 "nbformat_minor": 4
}
